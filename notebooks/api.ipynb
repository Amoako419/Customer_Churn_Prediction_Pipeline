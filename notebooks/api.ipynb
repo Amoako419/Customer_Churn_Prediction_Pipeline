{
 "cells": [
  {
   "cell_type": "code",
   "execution_count": 8,
   "id": "519b934e",
   "metadata": {},
   "outputs": [],
   "source": [
    "import requests\n",
    "import pandas as pd"
   ]
  },
  {
   "cell_type": "code",
   "execution_count": 2,
   "id": "0e751556",
   "metadata": {},
   "outputs": [],
   "source": [
    "url = \"https://api.openweathermap.org/data/2.5/weather?q=munich&appid=f47b7320ff3f8199243a2954fadeccd4\""
   ]
  },
  {
   "cell_type": "code",
   "execution_count": 3,
   "id": "6455b574",
   "metadata": {},
   "outputs": [],
   "source": [
    "response = requests.get(url)"
   ]
  },
  {
   "cell_type": "code",
   "execution_count": 4,
   "id": "252b7689",
   "metadata": {},
   "outputs": [
    {
     "data": {
      "text/plain": [
       "200"
      ]
     },
     "execution_count": 4,
     "metadata": {},
     "output_type": "execute_result"
    }
   ],
   "source": [
    "response.status_code"
   ]
  },
  {
   "cell_type": "code",
   "execution_count": 5,
   "id": "e5d4dd79",
   "metadata": {},
   "outputs": [],
   "source": [
    "data = response.json()"
   ]
  },
  {
   "cell_type": "code",
   "execution_count": 6,
   "id": "813f23e0",
   "metadata": {},
   "outputs": [
    {
     "data": {
      "text/plain": [
       "{'coord': {'lon': 11.5755, 'lat': 48.1374},\n",
       " 'weather': [{'id': 800,\n",
       "   'main': 'Clear',\n",
       "   'description': 'clear sky',\n",
       "   'icon': '01d'}],\n",
       " 'base': 'stations',\n",
       " 'main': {'temp': 293.76,\n",
       "  'feels_like': 292.84,\n",
       "  'temp_min': 292.92,\n",
       "  'temp_max': 294.22,\n",
       "  'pressure': 1016,\n",
       "  'humidity': 37,\n",
       "  'sea_level': 1016,\n",
       "  'grnd_level': 954},\n",
       " 'visibility': 10000,\n",
       " 'wind': {'speed': 3.64, 'deg': 38, 'gust': 3.27},\n",
       " 'clouds': {'all': 8},\n",
       " 'dt': 1747670464,\n",
       " 'sys': {'type': 2,\n",
       "  'id': 2021220,\n",
       "  'country': 'DE',\n",
       "  'sunrise': 1747625384,\n",
       "  'sunset': 1747680652},\n",
       " 'timezone': 7200,\n",
       " 'id': 2867714,\n",
       " 'name': 'Munich',\n",
       " 'cod': 200}"
      ]
     },
     "execution_count": 6,
     "metadata": {},
     "output_type": "execute_result"
    }
   ],
   "source": [
    "data"
   ]
  },
  {
   "cell_type": "code",
   "execution_count": 15,
   "id": "d13ce87e",
   "metadata": {},
   "outputs": [
    {
     "data": {
      "text/plain": [
       "{'temp': 293.76,\n",
       " 'feels_like': 292.84,\n",
       " 'temp_min': 292.92,\n",
       " 'temp_max': 294.22,\n",
       " 'pressure': 1016,\n",
       " 'humidity': 37,\n",
       " 'sea_level': 1016,\n",
       " 'grnd_level': 954}"
      ]
     },
     "execution_count": 15,
     "metadata": {},
     "output_type": "execute_result"
    }
   ],
   "source": [
    "data['main']"
   ]
  },
  {
   "cell_type": "code",
   "execution_count": 16,
   "id": "c11dcbe7",
   "metadata": {},
   "outputs": [
    {
     "data": {
      "text/plain": [
       "{'type': 2,\n",
       " 'id': 2021220,\n",
       " 'country': 'DE',\n",
       " 'sunrise': 1747625384,\n",
       " 'sunset': 1747680652}"
      ]
     },
     "execution_count": 16,
     "metadata": {},
     "output_type": "execute_result"
    }
   ],
   "source": [
    "data['sys']"
   ]
  }
 ],
 "metadata": {
  "kernelspec": {
   "display_name": "base",
   "language": "python",
   "name": "python3"
  },
  "language_info": {
   "codemirror_mode": {
    "name": "ipython",
    "version": 3
   },
   "file_extension": ".py",
   "mimetype": "text/x-python",
   "name": "python",
   "nbconvert_exporter": "python",
   "pygments_lexer": "ipython3",
   "version": "3.12.4"
  }
 },
 "nbformat": 4,
 "nbformat_minor": 5
}
